{
 "cells": [
  {
   "cell_type": "code",
   "execution_count": 1,
   "metadata": {},
   "outputs": [],
   "source": [
    "import tweepy #https://github.com/tweepy/tweepy\n",
    "import json\n"
   ]
  },
  {
   "cell_type": "code",
   "execution_count": 2,
   "metadata": {},
   "outputs": [],
   "source": [
    "with open('secret.json','r') as fp:\n",
    "    a=json.load(fp)\n",
    "#    print(a)\n",
    "#Twitter API credentials\n",
    "    consumer_key = a['consumer_key']\n",
    "    consumer_secret = a['consumer_secret']\n",
    "    access_key = a['access_token']\n",
    "    access_secret = a['access_token_secret']\n",
    "\n"
   ]
  },
  {
   "cell_type": "code",
   "execution_count": 64,
   "metadata": {},
   "outputs": [],
   "source": [
    "def search_tweets(keyword,filename):\n",
    "    #search for tweet with \n",
    "    #Twitter only allows access to a users most recent 3240 tweets with this method\n",
    "    \n",
    "    #authorize twitter, initialize tweepy\n",
    "    auth = tweepy.OAuthHandler(consumer_key, consumer_secret)\n",
    "    auth.set_access_token(access_key, access_secret)\n",
    "    api = tweepy.API(auth)\n",
    "    \n",
    "    #initialize a list to hold all the tweepy Tweets\n",
    "    alltweets = []    \n",
    "    \n",
    "    #make initial request for most recent tweets (200 is the maximum allowed count)\n",
    "    #new_tweets = api.user_timeline(screen_name = screen_name,count=10)\n",
    "    new_tweets = api.search_tweets(keyword)\n",
    "    \n",
    "    #save most recent tweets\n",
    "    alltweets.extend(new_tweets)\n",
    "    \n",
    "    #save the id of the oldest tweet less one\n",
    "    oldest = alltweets[-1].id - 1\n",
    "    \n",
    "    #keep grabbing tweets until there are no tweets left to grab\n",
    "    while len(new_tweets) > 0:\n",
    "        \n",
    "        #all subsiquent requests use the max_id param to prevent duplicates\n",
    "        #new_tweets = api.user_timeline(screen_name = screen_name,count=10,max_id=oldest)\n",
    "        new_tweets = api.search_tweets(screen_name)\n",
    "        #save most recent tweets\n",
    "        alltweets.extend(new_tweets)\n",
    "        \n",
    "        #update the id of the oldest tweet less one\n",
    "        oldest = alltweets[-1].id - 1\n",
    "        if(len(alltweets) > 300):\n",
    "            break\n",
    "        print( \"...%s tweets downloaded so far\" % (len(alltweets)) )\n",
    "       \n",
    "    #write tweet objects to JSON\n",
    "    file = open(filename, 'w') \n",
    "    print( \"Writing tweet objects to JSON please wait...\")\n",
    "    file.write('[\\n')\n",
    "    for status in alltweets:\n",
    "        json.dump(status._json,file,sort_keys = True,indent = 4)\n",
    "        file.write(',\\n')\n",
    "    #    json.dumps(status._json,indent=4)\n",
    "    #close the file\n",
    "    file.write('{}\\n]')\n",
    "    print( \"Done\")\n",
    "    file.close()"
   ]
  },
  {
   "cell_type": "code",
   "execution_count": 34,
   "metadata": {},
   "outputs": [
    {
     "name": "stdout",
     "output_type": "stream",
     "text": [
      "Writing tweet objects to JSON please wait...\n",
      "Done\n"
     ]
    }
   ],
   "source": [
    "if __name__ == '__main__':\n",
    "    #pass in the username of the account you want to download\n",
    "    get_all_tweets(\"boston\")"
   ]
  },
  {
   "cell_type": "code",
   "execution_count": 49,
   "metadata": {},
   "outputs": [],
   "source": [
    "def show_some_tweet(filename):\n",
    "    fp = open(filename,'r')\n",
    "    tweets_from_file=json.load(fp)\n",
    "    a = json.dumps(tweets_from_file,indent=4)\n",
    "    file.close()\n",
    "    return tweets_from_file"
   ]
  },
  {
   "cell_type": "code",
   "execution_count": 65,
   "metadata": {},
   "outputs": [
    {
     "name": "stdout",
     "output_type": "stream",
     "text": [
      "Writing tweet objects to JSON please wait...\n",
      "Done\n"
     ]
    }
   ],
   "source": [
    "#file=open('tweet-boston.json','r')\n",
    "filename = 'tweet-boston.json'\n",
    "tweet_text_keyword = 'boston'\n",
    "get_all_tweets(tweet_text_keyword,filename)\n",
    "tweet_list = show_some_tweet(filename)"
   ]
  },
  {
   "cell_type": "code",
   "execution_count": 66,
   "metadata": {},
   "outputs": [
    {
     "data": {
      "text/plain": [
       "31"
      ]
     },
     "execution_count": 66,
     "metadata": {},
     "output_type": "execute_result"
    }
   ],
   "source": [
    "len(tweet_list)"
   ]
  },
  {
   "cell_type": "code",
   "execution_count": 61,
   "metadata": {},
   "outputs": [
    {
     "data": {
      "text/plain": [
       "{'contributors': None,\n",
       " 'coordinates': None,\n",
       " 'created_at': 'Fri Oct 08 07:45:09 +0000 2021',\n",
       " 'entities': {'hashtags': [],\n",
       "  'symbols': [],\n",
       "  'urls': [],\n",
       "  'user_mentions': [{'id': 104184883,\n",
       "    'id_str': '104184883',\n",
       "    'indices': [0, 11],\n",
       "    'name': 'Pierre B.',\n",
       "    'screen_name': 'Pierre_B_y'}]},\n",
       " 'favorite_count': 0,\n",
       " 'favorited': False,\n",
       " 'geo': None,\n",
       " 'id': 1446381132916928536,\n",
       " 'id_str': '1446381132916928536',\n",
       " 'in_reply_to_screen_name': 'Pierre_B_y',\n",
       " 'in_reply_to_status_id': 1446380661703651352,\n",
       " 'in_reply_to_status_id_str': '1446380661703651352',\n",
       " 'in_reply_to_user_id': 104184883,\n",
       " 'in_reply_to_user_id_str': '104184883',\n",
       " 'is_quote_status': False,\n",
       " 'lang': 'fr',\n",
       " 'metadata': {'iso_language_code': 'fr', 'result_type': 'recent'},\n",
       " 'place': None,\n",
       " 'retweet_count': 0,\n",
       " 'retweeted': False,\n",
       " 'source': '<a href=\"http://twitter.com/download/android\" rel=\"nofollow\">Twitter for Android</a>',\n",
       " 'text': '@Pierre_B_y Non il parle des primes des équipes nationales (oui son propos préliminaire est hors sujet).',\n",
       " 'truncated': False,\n",
       " 'user': {'contributors_enabled': False,\n",
       "  'created_at': 'Wed Nov 15 19:49:19 +0000 2017',\n",
       "  'default_profile': False,\n",
       "  'default_profile_image': False,\n",
       "  'description': 'International writer #NBA #NFL #Tennis',\n",
       "  'entities': {'description': {'urls': []}},\n",
       "  'favourites_count': 854,\n",
       "  'follow_request_sent': False,\n",
       "  'followers_count': 160,\n",
       "  'following': False,\n",
       "  'friends_count': 309,\n",
       "  'geo_enabled': False,\n",
       "  'has_extended_profile': False,\n",
       "  'id': 930885444350377986,\n",
       "  'id_str': '930885444350377986',\n",
       "  'is_translation_enabled': False,\n",
       "  'is_translator': False,\n",
       "  'lang': None,\n",
       "  'listed_count': 2,\n",
       "  'location': 'Boston, MA',\n",
       "  'name': 'Boston - Paris',\n",
       "  'notifications': False,\n",
       "  'profile_background_color': '000000',\n",
       "  'profile_background_image_url': 'http://abs.twimg.com/images/themes/theme1/bg.png',\n",
       "  'profile_background_image_url_https': 'https://abs.twimg.com/images/themes/theme1/bg.png',\n",
       "  'profile_background_tile': False,\n",
       "  'profile_banner_url': 'https://pbs.twimg.com/profile_banners/930885444350377986/1510777403',\n",
       "  'profile_image_url': 'http://pbs.twimg.com/profile_images/930886665345949696/4T_dksQm_normal.jpg',\n",
       "  'profile_image_url_https': 'https://pbs.twimg.com/profile_images/930886665345949696/4T_dksQm_normal.jpg',\n",
       "  'profile_link_color': 'ABB8C2',\n",
       "  'profile_sidebar_border_color': '000000',\n",
       "  'profile_sidebar_fill_color': '000000',\n",
       "  'profile_text_color': '000000',\n",
       "  'profile_use_background_image': False,\n",
       "  'protected': False,\n",
       "  'screen_name': 'Boston_Vibes',\n",
       "  'statuses_count': 1585,\n",
       "  'time_zone': None,\n",
       "  'translator_type': 'none',\n",
       "  'url': None,\n",
       "  'utc_offset': None,\n",
       "  'verified': False,\n",
       "  'withheld_in_countries': []}}"
      ]
     },
     "execution_count": 61,
     "metadata": {},
     "output_type": "execute_result"
    }
   ],
   "source": [
    "tweet_list[0]"
   ]
  },
  {
   "cell_type": "code",
   "execution_count": 63,
   "metadata": {},
   "outputs": [
    {
     "name": "stdout",
     "output_type": "stream",
     "text": [
      "0\n",
      "@Pierre_B_y Non il parle des primes des équipes nationales (oui son propos préliminaire est hors sujet).\n",
      "1\n",
      "RT @Azifwe: C’est parti ! \n",
      "A quoi peuvent bien servir les étonnants robots de Boston Dynamics, qui peuvent marcher, sauter et danser sur du…\n",
      "2\n",
      "Rayos me gustaría robarte besos, así como Arozanera se robó el Home vs Boston 😌👌🏻\n",
      "3\n",
      "Me: I have an attachment to Boston \n",
      "The attachment: https://t.co/dvz5pk5CAW\n",
      "4\n",
      "Annual ‘Comics Come Home’ Fundraiser At TD Garden Canceled - CBS Boston: https://t.co/Ag8ttYjb0h \n",
      "#comicnews #comics https://t.co/GuQNNsSZi8\n",
      "5\n",
      "From our supporters in Boston #MicaProtest #micaredress https://t.co/2uDFTzuvKw\n",
      "6\n",
      "RT @bostonpetpads: Seaport/waterfront Apartment for rent 1 Bedroom 1 Bath Boston - $3,540: 1 Bed / 1 Bath Seaport Lifestyle Luxury Amenitie…\n",
      "7\n",
      "Seaport/waterfront Apartment for rent 1 Bedroom 1 Bath Boston - $3,540: 1 Bed / 1 Bath Seaport Lifestyle Luxury Ame… https://t.co/UjwLh8o6YV\n",
      "8\n",
      "@redstaroverclt @EggbortTheEgg The \"implications\" of course being that it might not be enough to show up that assho… https://t.co/tKxwc6NJUa\n",
      "9\n",
      "RT https://t.co/xjTvw1YxFG RT @allstonpads: Lower Allston Apartment for rent 1 Bedroom 1 Bath Boston - $3,012: 1 Be… https://t.co/Bys5T8ejl2\n",
      "10\n",
      "RT https://t.co/rfWUNjahVT RT @allstonpads: Lower Allston Apartment for rent 1 Bedroom 1 Bath Boston - $3,012: 1 Be… https://t.co/UPxw1NTboO\n",
      "11\n",
      "RT https://t.co/vzzkrHTHGO RT @allstonpads: Lower Allston Apartment for rent 1 Bedroom 1 Bath Boston - $3,012: 1 Be… https://t.co/nxV40CDsgb\n",
      "12\n",
      "RT https://t.co/2QXboUt03v RT @allstonpads: Lower Allston Apartment for rent 1 Bedroom 1 Bath Boston - $3,012: 1 Be… https://t.co/uJfGh20832\n",
      "13\n",
      "RT https://t.co/OETylK6eWL Lower Allston Apartment for rent 1 Bedroom 1 Bath Boston - $3,012: 1 Bedrooms 1 Bathroom… https://t.co/0TMkr0QBiM\n",
      "14\n",
      "RT https://t.co/8vBKR4EPPK RT @hydeparkpads: Hyde Park Beautiful 3 Bed 1 Bath on Oak St Boston - $3,300: Beautiful… https://t.co/tcKdkJjvj1\n",
      "15\n",
      "@Pierre_B_y Non il parle des primes des équipes nationales (oui son propos préliminaire est hors sujet).\n",
      "16\n",
      "RT @Azifwe: C’est parti ! \n",
      "A quoi peuvent bien servir les étonnants robots de Boston Dynamics, qui peuvent marcher, sauter et danser sur du…\n",
      "17\n",
      "Rayos me gustaría robarte besos, así como Arozanera se robó el Home vs Boston 😌👌🏻\n",
      "18\n",
      "Me: I have an attachment to Boston \n",
      "The attachment: https://t.co/dvz5pk5CAW\n",
      "19\n",
      "Annual ‘Comics Come Home’ Fundraiser At TD Garden Canceled - CBS Boston: https://t.co/Ag8ttYjb0h \n",
      "#comicnews #comics https://t.co/GuQNNsSZi8\n",
      "20\n",
      "From our supporters in Boston #MicaProtest #micaredress https://t.co/2uDFTzuvKw\n",
      "21\n",
      "RT @bostonpetpads: Seaport/waterfront Apartment for rent 1 Bedroom 1 Bath Boston - $3,540: 1 Bed / 1 Bath Seaport Lifestyle Luxury Amenitie…\n",
      "22\n",
      "Seaport/waterfront Apartment for rent 1 Bedroom 1 Bath Boston - $3,540: 1 Bed / 1 Bath Seaport Lifestyle Luxury Ame… https://t.co/UjwLh8o6YV\n",
      "23\n",
      "@redstaroverclt @EggbortTheEgg The \"implications\" of course being that it might not be enough to show up that assho… https://t.co/tKxwc6NJUa\n",
      "24\n",
      "RT https://t.co/xjTvw1YxFG RT @allstonpads: Lower Allston Apartment for rent 1 Bedroom 1 Bath Boston - $3,012: 1 Be… https://t.co/Bys5T8ejl2\n",
      "25\n",
      "RT https://t.co/rfWUNjahVT RT @allstonpads: Lower Allston Apartment for rent 1 Bedroom 1 Bath Boston - $3,012: 1 Be… https://t.co/UPxw1NTboO\n",
      "26\n",
      "RT https://t.co/vzzkrHTHGO RT @allstonpads: Lower Allston Apartment for rent 1 Bedroom 1 Bath Boston - $3,012: 1 Be… https://t.co/nxV40CDsgb\n",
      "27\n",
      "RT https://t.co/2QXboUt03v RT @allstonpads: Lower Allston Apartment for rent 1 Bedroom 1 Bath Boston - $3,012: 1 Be… https://t.co/uJfGh20832\n",
      "28\n",
      "RT https://t.co/OETylK6eWL Lower Allston Apartment for rent 1 Bedroom 1 Bath Boston - $3,012: 1 Bedrooms 1 Bathroom… https://t.co/0TMkr0QBiM\n",
      "29\n",
      "RT https://t.co/8vBKR4EPPK RT @hydeparkpads: Hyde Park Beautiful 3 Bed 1 Bath on Oak St Boston - $3,300: Beautiful… https://t.co/tcKdkJjvj1\n",
      "30\n",
      "\n"
     ]
    }
   ],
   "source": [
    "for count,t in enumerate(a):\n",
    "    print(count)\n",
    "    print(t.get('text',''))"
   ]
  },
  {
   "cell_type": "code",
   "execution_count": 55,
   "metadata": {},
   "outputs": [
    {
     "data": {
      "text/plain": [
       "29"
      ]
     },
     "execution_count": 55,
     "metadata": {},
     "output_type": "execute_result"
    }
   ],
   "source": []
  },
  {
   "cell_type": "code",
   "execution_count": null,
   "metadata": {},
   "outputs": [],
   "source": []
  }
 ],
 "metadata": {
  "kernelspec": {
   "display_name": "Python 3",
   "language": "python",
   "name": "python3"
  },
  "language_info": {
   "codemirror_mode": {
    "name": "ipython",
    "version": 3
   },
   "file_extension": ".py",
   "mimetype": "text/x-python",
   "name": "python",
   "nbconvert_exporter": "python",
   "pygments_lexer": "ipython3",
   "version": "3.8.10"
  }
 },
 "nbformat": 4,
 "nbformat_minor": 4
}
